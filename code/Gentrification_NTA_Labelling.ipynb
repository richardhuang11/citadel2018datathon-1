{
 "cells": [
  {
   "cell_type": "code",
   "execution_count": 1,
   "metadata": {
    "collapsed": true
   },
   "outputs": [],
   "source": [
    "import numpy as np\n",
    "import pandas as pd\n",
    "import math"
   ]
  },
  {
   "cell_type": "code",
   "execution_count": 2,
   "metadata": {
    "collapsed": true
   },
   "outputs": [],
   "source": [
    "# req_311 = pd.read_csv(\"/home/ec2-user/data/311_service_requests.csv\", low_memory=False)\n",
    "# comm_health = pd.read_csv(\"/home/ec2-user/data/community_health.csv\", low_memory=False)\n",
    "# demo = pd.read_csv(\"/home/ec2-user/data/demographics.csv\", low_memory=False)\n",
    "# demo_city = pd.read_csv(\"/home/ec2-user/data/demographics_city.csv\", low_memory=False)\n",
    "# env_rad = pd.read_csv(\"/home/ec2-user/data/environmental_radiation.csv\", low_memory=False)\n",
    "# geographic = pd.read_csv(\"/home/ec2-user/data/geographic.csv\", low_memory=False)\n",
    "# inspections = pd.read_csv(\"/home/ec2-user/data/food_establishment_inspections.csv\", \\\n",
    "#                           encoding='latin1', engine='python')\n",
    "# venues = pd.read_csv(\"/home/ec2-user/data/food_venues.csv\", low_memory=False, encoding='latin1')"
   ]
  },
  {
   "cell_type": "code",
   "execution_count": 3,
   "metadata": {
    "collapsed": true
   },
   "outputs": [],
   "source": [
    "demo_2013 = pd.read_excel(\"/home/ec2-user/citadel2018datathon/demo_data/dem_2013acs5yr_nta.xlsx\")\n",
    "demo_2013 = demo_2013[[\"GeoID\", \"PopE\"]]\n",
    "hous_2013 = pd.read_excel(\"/home/ec2-user/citadel2018datathon/demo_data/hsg_2013acs5yr_nta.xlsx\")\n",
    "hous_2013 = hous_2013[[\"GeoID\", \"MdVlE\"]]\n",
    "soc_2013 = pd.read_excel(\"/home/ec2-user/citadel2018datathon/demo_data/soc_2013acs5yr_nta.xlsx\")\n",
    "soc_2013 = soc_2013[[\"GeoID\", \"EA_BchDE\"]]\n",
    "econ_2013 = pd.read_excel(\"/home/ec2-user/citadel2018datathon/demo_data/eco_2013acs5yr_nta.xlsx\")\n",
    "econ_2013 = econ_2013[[\"GeoID\", \"MdHHIncE\"]]"
   ]
  },
  {
   "cell_type": "code",
   "execution_count": 4,
   "metadata": {
    "collapsed": true,
    "scrolled": true
   },
   "outputs": [],
   "source": [
    "master2013 = pd.concat([demo_2013[\"GeoID\"],demo_2013[\"PopE\"],hous_2013[\"MdVlE\"], \\\n",
    "                        soc_2013[\"EA_BchDE\"],econ_2013[\"MdHHIncE\"]],axis = 1)"
   ]
  },
  {
   "cell_type": "code",
   "execution_count": 5,
   "metadata": {
    "collapsed": true
   },
   "outputs": [],
   "source": [
    "demo_2016 = pd.read_excel(\"/home/ec2-user/citadel2018datathon/demo_data/demo_2016acs5yr_nta.xlsx\")\n",
    "demo_2016 = demo_2016[[\"GeoID\", \"Pop_1E\"]]\n",
    "hous_2016 = pd.read_excel(\"/home/ec2-user/citadel2018datathon/demo_data/hous_2016acs5yr_nta.xlsx\")\n",
    "hous_2016 = hous_2016[[\"GeoID\", \"MdVlE\"]]\n",
    "soc_2016 = pd.read_excel(\"/home/ec2-user/citadel2018datathon/demo_data/soc_2016acs5yr_nta.xlsx\")\n",
    "soc_2016 = soc_2016[[\"GeoID\", \"EA_BchDE\"]]\n",
    "econ_2016 = pd.read_excel(\"/home/ec2-user/citadel2018datathon/demo_data/econ_2016acs5yr_nta.xlsx\")\n",
    "econ_2016 = econ_2016[[\"GeoID\", \"MdHHIncE\"]]"
   ]
  },
  {
   "cell_type": "code",
   "execution_count": 6,
   "metadata": {
    "collapsed": true
   },
   "outputs": [],
   "source": [
    "master2016 = pd.concat([demo_2016[\"GeoID\"],demo_2016[\"Pop_1E\"],hous_2016[\"MdVlE\"], \\\n",
    "                        soc_2016[\"EA_BchDE\"],econ_2016[\"MdHHIncE\"]],axis = 1)"
   ]
  },
  {
   "cell_type": "code",
   "execution_count": 7,
   "metadata": {
    "collapsed": true
   },
   "outputs": [],
   "source": [
    "master = pd.concat([master2013, master2016[[\"Pop_1E\", \"MdVlE\", \"EA_BchDE\", \"MdHHIncE\"]]], axis = 1)\n",
    "master.columns = [\"NTAID\", \"2013_Pop\", \"2013_Median_Home_Value\", \"2013_Pct_Bachelors\", \"2013_Median_Income\", \\\n",
    "                 \"2016_Pop\", \"2016_Median_Home_Value\", \"2016_Pct_Bachelors\", \"2016_Median_Income\"]"
   ]
  },
  {
   "cell_type": "code",
   "execution_count": 8,
   "metadata": {
    "collapsed": true
   },
   "outputs": [],
   "source": [
    "# solving 40th percentile median income 2013:\n",
    "med_inc_2013 = master[\"2013_Median_Income\"].dropna().astype('int64').sort_values()\n",
    "n = len(med_inc_2013)\n",
    "pctile = math.ceil(0.4*n)\n",
    "thresh = med_inc_2013.iloc[pctile]\n",
    "less_than_40th_medincome = master[\"2013_Median_Income\"] < thresh"
   ]
  },
  {
   "cell_type": "code",
   "execution_count": 9,
   "metadata": {
    "collapsed": true,
    "scrolled": true
   },
   "outputs": [],
   "source": [
    "# same for median home value\n",
    "med_house_2013 = master[\"2013_Median_Home_Value\"].dropna().astype(str).str.replace(\",\",\"\").astype('int64').sort_values()\n",
    "n = len(med_house_2013)\n",
    "pctile = math.ceil(0.4*n)\n",
    "thresh = med_house_2013.iloc[pctile]\n",
    "less_than_40th_medhomevalue = master[\"2013_Median_Home_Value\"].astype(str).str.replace(\",\",\"\").astype('float') < thresh"
   ]
  },
  {
   "cell_type": "code",
   "execution_count": 10,
   "metadata": {
    "collapsed": true
   },
   "outputs": [],
   "source": [
    "# pct increase education\n",
    "pct_bach_2013 = master[\"2013_Pct_Bachelors\"]\n",
    "pct_bach_2016 = master[\"2016_Pct_Bachelors\"]\n",
    "change = pct_bach_2016 - pct_bach_2013\n",
    "clean_change = change.dropna().astype('float').sort_values(ascending=False)\n",
    "n = len(change)\n",
    "pctile = math.floor(0.33*n)\n",
    "thresh = clean_change.iloc[pctile]\n",
    "top_3rd_education = change > thresh"
   ]
  },
  {
   "cell_type": "code",
   "execution_count": 11,
   "metadata": {
    "collapsed": true
   },
   "outputs": [],
   "source": [
    "# percentage increase in median home value\n",
    "hv2013 = master[\"2013_Median_Home_Value\"].astype(str).str.replace(\",\",\"\").astype('float')\n",
    "hv2016 = master[\"2016_Median_Home_Value\"].astype(str).str.replace(\",\",\"\").astype('float')\n",
    "pct_change = (hv2016-hv2013)/hv2013\n",
    "clean_pct_change = pct_change.dropna().astype('float').sort_values(ascending=False)\n",
    "n = len(pct_change)\n",
    "pctile = math.floor(0.33*n)\n",
    "thresh = clean_pct_change.iloc[pctile]\n",
    "top_3rd_home_value_pct_increase = pct_change > thresh"
   ]
  },
  {
   "cell_type": "code",
   "execution_count": 12,
   "metadata": {
    "collapsed": true
   },
   "outputs": [],
   "source": [
    "# median home value increased\n",
    "home_value_increased = hv2016-hv2013 > 0"
   ]
  },
  {
   "cell_type": "code",
   "execution_count": 13,
   "metadata": {
    "collapsed": true
   },
   "outputs": [],
   "source": [
    "Y_getter = pd.concat([less_than_40th_medincome, less_than_40th_medhomevalue, top_3rd_education, \\\n",
    "                      top_3rd_home_value_pct_increase, home_value_increased], axis = 1)\n",
    "Y_getter.columns = [\"less_than_40th_medincome\", \"less_than_40th_medhomevalue\", \"top_3rd_education\", \\\n",
    "                      \"top_3rd_home_value_pct_increase\", \"home_value_increased\"]"
   ]
  },
  {
   "cell_type": "code",
   "execution_count": 14,
   "metadata": {
    "collapsed": true
   },
   "outputs": [],
   "source": [
    "label = Y_getter.all(axis = 1).astype('int64')\n",
    "Y = pd.concat([master[\"NTAID\"], label],axis = 1)\n",
    "Y.columns = [\"NTAID\", \"Y\"]\n",
    "Y.to_csv(\"/home/ec2-user/data/Y.csv\")"
   ]
  },
  {
   "cell_type": "code",
   "execution_count": 15,
   "metadata": {
    "scrolled": true
   },
   "outputs": [
    {
     "ename": "TypeError",
     "evalue": "first argument must be an iterable of pandas objects, you passed an object of type \"DataFrame\"",
     "output_type": "error",
     "traceback": [
      "\u001b[0;31m---------------------------------------------------------------------------\u001b[0m",
      "\u001b[0;31mTypeError\u001b[0m                                 Traceback (most recent call last)",
      "\u001b[0;32m<ipython-input-15-d2d08f18adb3>\u001b[0m in \u001b[0;36m<module>\u001b[0;34m()\u001b[0m\n\u001b[1;32m      1\u001b[0m \u001b[0mntaids\u001b[0m \u001b[0;34m=\u001b[0m \u001b[0;34m[\u001b[0m\u001b[0;34m]\u001b[0m\u001b[0;34m\u001b[0m\u001b[0m\n\u001b[0;32m----> 2\u001b[0;31m \u001b[0;32mfor\u001b[0m \u001b[0mindex\u001b[0m\u001b[0;34m,\u001b[0m \u001b[0mntaid\u001b[0m\u001b[0;34m,\u001b[0m \u001b[0mincome\u001b[0m\u001b[0;34m,\u001b[0m \u001b[0mhome\u001b[0m\u001b[0;34m,\u001b[0m \u001b[0meducation\u001b[0m\u001b[0;34m,\u001b[0m \u001b[0mhomepct\u001b[0m\u001b[0;34m,\u001b[0m \u001b[0mhomediff\u001b[0m \u001b[0;32min\u001b[0m \u001b[0mpd\u001b[0m\u001b[0;34m.\u001b[0m\u001b[0mconcat\u001b[0m\u001b[0;34m(\u001b[0m\u001b[0mY_getter\u001b[0m\u001b[0;34m)\u001b[0m\u001b[0;34m.\u001b[0m\u001b[0mitertuples\u001b[0m\u001b[0;34m(\u001b[0m\u001b[0;34m)\u001b[0m\u001b[0;34m:\u001b[0m\u001b[0;34m\u001b[0m\u001b[0m\n\u001b[0m\u001b[1;32m      3\u001b[0m     \u001b[0;32mif\u001b[0m \u001b[0mincome\u001b[0m \u001b[0;32mand\u001b[0m \u001b[0mhome\u001b[0m \u001b[0;32mand\u001b[0m \u001b[0meducation\u001b[0m \u001b[0;32mand\u001b[0m \u001b[0mhomepct\u001b[0m \u001b[0;32mand\u001b[0m \u001b[0mhomediff\u001b[0m\u001b[0;34m:\u001b[0m\u001b[0;34m\u001b[0m\u001b[0m\n\u001b[1;32m      4\u001b[0m         \u001b[0mntaids\u001b[0m\u001b[0;34m.\u001b[0m\u001b[0mappend\u001b[0m\u001b[0;34m(\u001b[0m\u001b[0mntaid\u001b[0m\u001b[0;34m)\u001b[0m\u001b[0;34m\u001b[0m\u001b[0m\n",
      "\u001b[0;32m/home/ec2-user/anaconda3/lib/python3.6/site-packages/pandas/core/reshape/concat.py\u001b[0m in \u001b[0;36mconcat\u001b[0;34m(objs, axis, join, join_axes, ignore_index, keys, levels, names, verify_integrity, copy)\u001b[0m\n\u001b[1;32m    204\u001b[0m                        \u001b[0mkeys\u001b[0m\u001b[0;34m=\u001b[0m\u001b[0mkeys\u001b[0m\u001b[0;34m,\u001b[0m \u001b[0mlevels\u001b[0m\u001b[0;34m=\u001b[0m\u001b[0mlevels\u001b[0m\u001b[0;34m,\u001b[0m \u001b[0mnames\u001b[0m\u001b[0;34m=\u001b[0m\u001b[0mnames\u001b[0m\u001b[0;34m,\u001b[0m\u001b[0;34m\u001b[0m\u001b[0m\n\u001b[1;32m    205\u001b[0m                        \u001b[0mverify_integrity\u001b[0m\u001b[0;34m=\u001b[0m\u001b[0mverify_integrity\u001b[0m\u001b[0;34m,\u001b[0m\u001b[0;34m\u001b[0m\u001b[0m\n\u001b[0;32m--> 206\u001b[0;31m                        copy=copy)\n\u001b[0m\u001b[1;32m    207\u001b[0m     \u001b[0;32mreturn\u001b[0m \u001b[0mop\u001b[0m\u001b[0;34m.\u001b[0m\u001b[0mget_result\u001b[0m\u001b[0;34m(\u001b[0m\u001b[0;34m)\u001b[0m\u001b[0;34m\u001b[0m\u001b[0m\n\u001b[1;32m    208\u001b[0m \u001b[0;34m\u001b[0m\u001b[0m\n",
      "\u001b[0;32m/home/ec2-user/anaconda3/lib/python3.6/site-packages/pandas/core/reshape/concat.py\u001b[0m in \u001b[0;36m__init__\u001b[0;34m(self, objs, axis, join, join_axes, keys, levels, names, ignore_index, verify_integrity, copy)\u001b[0m\n\u001b[1;32m    219\u001b[0m             raise TypeError('first argument must be an iterable of pandas '\n\u001b[1;32m    220\u001b[0m                             \u001b[0;34m'objects, you passed an object of type '\u001b[0m\u001b[0;34m\u001b[0m\u001b[0m\n\u001b[0;32m--> 221\u001b[0;31m                             '\"{0}\"'.format(type(objs).__name__))\n\u001b[0m\u001b[1;32m    222\u001b[0m \u001b[0;34m\u001b[0m\u001b[0m\n\u001b[1;32m    223\u001b[0m         \u001b[0;32mif\u001b[0m \u001b[0mjoin\u001b[0m \u001b[0;34m==\u001b[0m \u001b[0;34m'outer'\u001b[0m\u001b[0;34m:\u001b[0m\u001b[0;34m\u001b[0m\u001b[0m\n",
      "\u001b[0;31mTypeError\u001b[0m: first argument must be an iterable of pandas objects, you passed an object of type \"DataFrame\""
     ]
    }
   ],
   "source": [
    "ntaids = []\n",
    "for index, ntaid, income, home, education, homepct, homediff in pd.concat(Y_getter).itertuples():\n",
    "    if income and home and education and homepct and homediff:\n",
    "        ntaids.append(ntaid)"
   ]
  },
  {
   "cell_type": "code",
   "execution_count": 16,
   "metadata": {
    "collapsed": true
   },
   "outputs": [],
   "source": [
    "Y[Y[\"Y\"] == 1].to_csv(\"/home/ec2-user/data/gentrified.csv\")"
   ]
  },
  {
   "cell_type": "code",
   "execution_count": null,
   "metadata": {
    "collapsed": true
   },
   "outputs": [],
   "source": []
  },
  {
   "cell_type": "code",
   "execution_count": null,
   "metadata": {
    "collapsed": true
   },
   "outputs": [],
   "source": []
  }
 ],
 "metadata": {
  "kernelspec": {
   "display_name": "Python 3",
   "language": "python",
   "name": "python3"
  },
  "language_info": {
   "codemirror_mode": {
    "name": "ipython",
    "version": 3
   },
   "file_extension": ".py",
   "mimetype": "text/x-python",
   "name": "python",
   "nbconvert_exporter": "python",
   "pygments_lexer": "ipython3",
   "version": "3.6.6"
  }
 },
 "nbformat": 4,
 "nbformat_minor": 2
}
